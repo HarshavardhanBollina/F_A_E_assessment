{
 "cells": [
  {
   "cell_type": "code",
   "execution_count": 2,
   "metadata": {},
   "outputs": [],
   "source": [
    "import json\n",
    "\n",
    "with open ('users.json','r') as file:\n",
    "    data = file.read().strip().split('\\n')\n",
    "\n",
    "data = [json.loads(line) for line in data]\n",
    "\n"
   ]
  },
  {
   "cell_type": "code",
   "execution_count": 3,
   "metadata": {},
   "outputs": [
    {
     "name": "stdout",
     "output_type": "stream",
     "text": [
      "\n",
      "Analyzing users.json...\n",
      "Found inconsistencies in data types: []\n"
     ]
    },
    {
     "ename": "TypeError",
     "evalue": "unhashable type: 'dict'",
     "output_type": "error",
     "traceback": [
      "\u001b[0;31m---------------------------------------------------------------------------\u001b[0m",
      "\u001b[0;31mTypeError\u001b[0m                                 Traceback (most recent call last)",
      "Cell \u001b[0;32mIn [3], line 68\u001b[0m\n\u001b[1;32m     61\u001b[0m \u001b[38;5;66;03m# List of dataset paths\u001b[39;00m\n\u001b[1;32m     62\u001b[0m dataset_paths \u001b[38;5;241m=\u001b[39m [\n\u001b[1;32m     63\u001b[0m     \u001b[38;5;124m'\u001b[39m\u001b[38;5;124musers.json\u001b[39m\u001b[38;5;124m'\u001b[39m,\n\u001b[1;32m     64\u001b[0m     \u001b[38;5;124m'\u001b[39m\u001b[38;5;124mreceipts.json\u001b[39m\u001b[38;5;124m'\u001b[39m,\n\u001b[1;32m     65\u001b[0m     \u001b[38;5;124m'\u001b[39m\u001b[38;5;124mbrands.json\u001b[39m\u001b[38;5;124m'\u001b[39m\n\u001b[1;32m     66\u001b[0m ]\n\u001b[0;32m---> 68\u001b[0m \u001b[43mmain\u001b[49m\u001b[43m(\u001b[49m\u001b[43mdataset_paths\u001b[49m\u001b[43m)\u001b[49m\n",
      "Cell \u001b[0;32mIn [3], line 59\u001b[0m, in \u001b[0;36mmain\u001b[0;34m(dataset_paths)\u001b[0m\n\u001b[1;32m     57\u001b[0m \u001b[38;5;28;01mfor\u001b[39;00m file_path \u001b[38;5;129;01min\u001b[39;00m dataset_paths:\n\u001b[1;32m     58\u001b[0m     file_name \u001b[38;5;241m=\u001b[39m os\u001b[38;5;241m.\u001b[39mpath\u001b[38;5;241m.\u001b[39mbasename(file_path)\n\u001b[0;32m---> 59\u001b[0m     \u001b[43manalyze_dataset\u001b[49m\u001b[43m(\u001b[49m\u001b[43mfile_path\u001b[49m\u001b[43m,\u001b[49m\u001b[43m \u001b[49m\u001b[43mrequired_fields\u001b[49m\u001b[38;5;241;43m.\u001b[39;49m\u001b[43mget\u001b[49m\u001b[43m(\u001b[49m\u001b[43mfile_name\u001b[49m\u001b[43m,\u001b[49m\u001b[43m \u001b[49m\u001b[43m[\u001b[49m\u001b[43m]\u001b[49m\u001b[43m)\u001b[49m\u001b[43m)\u001b[49m\n",
      "Cell \u001b[0;32mIn [3], line 43\u001b[0m, in \u001b[0;36manalyze_dataset\u001b[0;34m(file_path, required_fields)\u001b[0m\n\u001b[1;32m     40\u001b[0m \u001b[38;5;28mprint\u001b[39m(\u001b[38;5;124mf\u001b[39m\u001b[38;5;124m\"\u001b[39m\u001b[38;5;124mFound inconsistencies in data types: \u001b[39m\u001b[38;5;132;01m{\u001b[39;00minconsistencies\u001b[38;5;132;01m}\u001b[39;00m\u001b[38;5;124m\"\u001b[39m)\n\u001b[1;32m     42\u001b[0m \u001b[38;5;66;03m# Uniqueness verification\u001b[39;00m\n\u001b[0;32m---> 43\u001b[0m duplicate_count \u001b[38;5;241m=\u001b[39m \u001b[43mcheck_uniqueness\u001b[49m\u001b[43m(\u001b[49m\u001b[43mdata\u001b[49m\u001b[43m)\u001b[49m\n\u001b[1;32m     44\u001b[0m \u001b[38;5;28mprint\u001b[39m(\u001b[38;5;124mf\u001b[39m\u001b[38;5;124m\"\u001b[39m\u001b[38;5;124mFound \u001b[39m\u001b[38;5;132;01m{\u001b[39;00mduplicate_count\u001b[38;5;132;01m}\u001b[39;00m\u001b[38;5;124m duplicate records.\u001b[39m\u001b[38;5;124m\"\u001b[39m)\n\u001b[1;32m     46\u001b[0m \u001b[38;5;66;03m# Completeness assessment\u001b[39;00m\n",
      "Cell \u001b[0;32mIn [3], line 21\u001b[0m, in \u001b[0;36mcheck_uniqueness\u001b[0;34m(data)\u001b[0m\n\u001b[1;32m     19\u001b[0m \u001b[38;5;28;01mdef\u001b[39;00m \u001b[38;5;21mcheck_uniqueness\u001b[39m(data):\n\u001b[1;32m     20\u001b[0m     \u001b[38;5;124;03m\"\"\"Calculate the number of duplicate records.\"\"\"\u001b[39;00m\n\u001b[0;32m---> 21\u001b[0m     unique_records \u001b[38;5;241m=\u001b[39m [\u001b[38;5;28mdict\u001b[39m(t) \u001b[38;5;28;01mfor\u001b[39;00m t \u001b[38;5;129;01min\u001b[39;00m {\u001b[38;5;28mtuple\u001b[39m(\u001b[38;5;28msorted\u001b[39m(d\u001b[38;5;241m.\u001b[39mitems())) \u001b[38;5;28;01mfor\u001b[39;00m d \u001b[38;5;129;01min\u001b[39;00m data}]\n\u001b[1;32m     22\u001b[0m     duplicate_count \u001b[38;5;241m=\u001b[39m \u001b[38;5;28mlen\u001b[39m(data) \u001b[38;5;241m-\u001b[39m \u001b[38;5;28mlen\u001b[39m(unique_records)\n\u001b[1;32m     23\u001b[0m     \u001b[38;5;28;01mreturn\u001b[39;00m duplicate_count\n",
      "Cell \u001b[0;32mIn [3], line 21\u001b[0m, in \u001b[0;36m<setcomp>\u001b[0;34m(.0)\u001b[0m\n\u001b[1;32m     19\u001b[0m \u001b[38;5;28;01mdef\u001b[39;00m \u001b[38;5;21mcheck_uniqueness\u001b[39m(data):\n\u001b[1;32m     20\u001b[0m     \u001b[38;5;124;03m\"\"\"Calculate the number of duplicate records.\"\"\"\u001b[39;00m\n\u001b[0;32m---> 21\u001b[0m     unique_records \u001b[38;5;241m=\u001b[39m [\u001b[38;5;28mdict\u001b[39m(t) \u001b[38;5;28;01mfor\u001b[39;00m t \u001b[38;5;129;01min\u001b[39;00m {\u001b[38;5;28mtuple\u001b[39m(\u001b[38;5;28msorted\u001b[39m(d\u001b[38;5;241m.\u001b[39mitems())) \u001b[38;5;28;01mfor\u001b[39;00m d \u001b[38;5;129;01min\u001b[39;00m data}]\n\u001b[1;32m     22\u001b[0m     duplicate_count \u001b[38;5;241m=\u001b[39m \u001b[38;5;28mlen\u001b[39m(data) \u001b[38;5;241m-\u001b[39m \u001b[38;5;28mlen\u001b[39m(unique_records)\n\u001b[1;32m     23\u001b[0m     \u001b[38;5;28;01mreturn\u001b[39;00m duplicate_count\n",
      "\u001b[0;31mTypeError\u001b[0m: unhashable type: 'dict'"
     ]
    }
   ],
   "source": [
    "import json\n",
    "import os\n",
    "\n",
    "def load_data(file_path):\n",
    "    \"\"\"Load JSON data from a file, handling non-standard JSON formats.\"\"\"\n",
    "    with open(file_path, 'r') as file:\n",
    "        data = file.read().strip().split('\\n')\n",
    "    return [json.loads(line) for line in data]\n",
    "\n",
    "def check_consistency(data):\n",
    "    \"\"\"Identify inconsistencies in data types across similar fields.\"\"\"\n",
    "    inconsistencies = []\n",
    "    for i, record in enumerate(data):\n",
    "        for key, value in record.items():\n",
    "            if isinstance(value, str) and any(isinstance(rec.get(key, \"\"), (int, float)) for rec in data):\n",
    "                inconsistencies.append((i, key, type(value)))\n",
    "    return inconsistencies\n",
    "\n",
    "def check_uniqueness(data):\n",
    "    \"\"\"Calculate the number of duplicate records.\"\"\"\n",
    "    unique_records = [dict(t) for t in {tuple(sorted(d.items())) for d in data}]\n",
    "    duplicate_count = len(data) - len(unique_records)\n",
    "    return duplicate_count\n",
    "\n",
    "def check_completeness(data, required_fields):\n",
    "    \"\"\"Check for missing required fields in records.\"\"\"\n",
    "    missing_fields = []\n",
    "    for i, record in enumerate(data):\n",
    "        missing = [field for field in required_fields if field not in record]\n",
    "        if missing:\n",
    "            missing_fields.append((i, missing))\n",
    "    return missing_fields\n",
    "\n",
    "def analyze_dataset(file_path, required_fields):\n",
    "    print(f\"\\nAnalyzing {os.path.basename(file_path)}...\")\n",
    "    data = load_data(file_path)\n",
    "    \n",
    "    # Consistency check\n",
    "    inconsistencies = check_consistency(data)\n",
    "    print(f\"Found inconsistencies in data types: {inconsistencies}\")\n",
    "    \n",
    "    # Uniqueness verification\n",
    "    duplicate_count = check_uniqueness(data)\n",
    "    print(f\"Found {duplicate_count} duplicate records.\")\n",
    "    \n",
    "    # Completeness assessment\n",
    "    missing_fields = check_completeness(data, required_fields)\n",
    "    print(f\"Records missing required fields: {missing_fields}\")\n",
    "\n",
    "def main(dataset_paths):\n",
    "    required_fields = {\n",
    "        'users.json': ['_id', 'state', 'createdDate','lastLogin', 'role', 'active'],  \n",
    "        'receipts.json': ['_id', 'binusPointsEarned','bonusPointearnedReason','createDate','dateScanned','finishedDate','modifyDate','pointsAwardedDate','pointsEarned','purchaseDate','purchasedItemCount','rewardsReceiptItemList','rewardsReceiptStatus','totalSpent','user_Id'],\n",
    "        'brands.json': ['_id', 'barcode','brandCode','category','categoryCode','cpg','topBrand','name']\n",
    "    }\n",
    "    \n",
    "    for file_path in dataset_paths:\n",
    "        file_name = os.path.basename(file_path)\n",
    "        analyze_dataset(file_path, required_fields.get(file_name, []))\n",
    "\n",
    "# List of dataset paths\n",
    "dataset_paths = [\n",
    "    'users.json',\n",
    "    'receipts.json',\n",
    "    'brands.json'\n",
    "]\n",
    "\n",
    "main(dataset_paths)\n"
   ]
  }
 ],
 "metadata": {
  "kernelspec": {
   "display_name": "Python 3",
   "language": "python",
   "name": "python3"
  },
  "language_info": {
   "codemirror_mode": {
    "name": "ipython",
    "version": 3
   },
   "file_extension": ".py",
   "mimetype": "text/x-python",
   "name": "python",
   "nbconvert_exporter": "python",
   "pygments_lexer": "ipython3",
   "version": "3.10.2"
  }
 },
 "nbformat": 4,
 "nbformat_minor": 2
}
